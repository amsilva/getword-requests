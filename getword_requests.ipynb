{
  "nbformat": 4,
  "nbformat_minor": 0,
  "metadata": {
    "colab": {
      "provenance": [],
      "authorship_tag": "ABX9TyPYySAmS8f/F/U93NkNEY+3",
      "include_colab_link": true
    },
    "kernelspec": {
      "name": "python3",
      "display_name": "Python 3"
    },
    "language_info": {
      "name": "python"
    }
  },
  "cells": [
    {
      "cell_type": "markdown",
      "metadata": {
        "id": "view-in-github",
        "colab_type": "text"
      },
      "source": [
        "<a href=\"https://colab.research.google.com/github/amsilva/getword-requests/blob/main/getword_requests.ipynb\" target=\"_parent\"><img src=\"https://colab.research.google.com/assets/colab-badge.svg\" alt=\"Open In Colab\"/></a>"
      ]
    },
    {
      "cell_type": "code",
      "execution_count": 1,
      "metadata": {
        "id": "fROz4nrTfRF4"
      },
      "outputs": [],
      "source": [
        "import requests\n",
        "\n",
        "# URL da sua API\n",
        "##url = 'http://localhost:5000/simple-get'  # Altere se necessário\n",
        "#url = 'http://localhost:5000/complex-get'  # Altere se necessário\n",
        "url = \"https://faccamp.pythonanywhere.com/complex-get\""
      ]
    },
    {
      "cell_type": "code",
      "source": [
        "def get_message():\n",
        "    try:\n",
        "        response = requests.get(url)\n",
        "        response.raise_for_status()  # Levanta um erro se a resposta for um erro HTTP\n",
        "        data = response.json()  # Converte a resposta para JSON\n",
        "\n",
        "        print(\"Mensagem recebida, COMPLETA:\", data)\n",
        "        print(\"Mensagem recebida, PALAVRA:\", data['palavra'])\n",
        "        print(\"Mensagem recebida, CATEGORIA:\", data['categoria'])\n",
        "        print(\"Mensagem recebida, COMPLEXIDADE:\", data['complexidade'])\n",
        "\n",
        "    except requests.exceptions.RequestException as e:\n",
        "        print(\"Erro ao acessar a API:\", e)\n",
        "\n"
      ],
      "metadata": {
        "id": "CubjAE8xfYHN"
      },
      "execution_count": 8,
      "outputs": []
    },
    {
      "cell_type": "code",
      "source": [
        "if __name__ == '__main__':\n",
        "    get_message()"
      ],
      "metadata": {
        "colab": {
          "base_uri": "https://localhost:8080/"
        },
        "id": "qvrJfgppDc9S",
        "outputId": "1fe2bdf7-7d5d-4ae8-948b-6b342eca6b66"
      },
      "execution_count": 9,
      "outputs": [
        {
          "output_type": "stream",
          "name": "stdout",
          "text": [
            "Mensagem recebida, COMPLETA: {'categoria': 'VERBO', 'complexidade': '1', 'palavra': 'DORMIR'}\n",
            "Mensagem recebida, PALAVRA: DORMIR\n",
            "Mensagem recebida, CATEGORIA: VERBO\n",
            "Mensagem recebida, COMPLEXIDADE: 1\n"
          ]
        }
      ]
    }
  ]
}